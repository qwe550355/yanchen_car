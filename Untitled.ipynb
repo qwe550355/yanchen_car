{
 "cells": [
  {
   "cell_type": "code",
   "execution_count": 6,
   "metadata": {},
   "outputs": [
    {
     "name": "stdout",
     "output_type": "stream",
     "text": [
      "0    180\n",
      "1    263\n",
      "2    156\n",
      "3    162\n",
      "4    152\n",
      "Name: predict_quantity, dtype: int64\n",
      "0    175.0\n",
      "1    255.0\n",
      "2    151.0\n",
      "3    157.0\n",
      "4    147.0\n",
      "Name: predict_quantity, dtype: float64\n"
     ]
    },
    {
     "name": "stderr",
     "output_type": "stream",
     "text": [
      "C:\\Users\\jinda\\AppData\\Local\\Continuum\\Anaconda3\\lib\\site-packages\\IPython\\core\\interactiveshell.py:2698: DtypeWarning: Columns (15,20) have mixed types. Specify dtype option on import or set low_memory=False.\n",
      "  interactivity=interactivity, compiler=compiler, result=result)\n"
     ]
    }
   ],
   "source": [
    "import pandas as pd\n",
    "\n",
    "datapath = './data/'\n",
    "\n",
    "train_df = pd.read_csv(datapath+'[new] yancheng_train_20171226.csv')\n",
    "\n",
    "test_df = pd.read_csv(datapath+'yancheng_testA_20171225.csv')\n",
    "\n",
    "train_sum10=train_df[(train_df.sale_date==201710)].groupby(['class_id']).sale_quantity.sum().round()\n",
    "\n",
    "predicted=train_sum10.reset_index()\n",
    "\n",
    "result=pd.merge(test_df[['predict_date','class_id']],predicted,how='left',on=['class_id'])\n",
    "\n",
    "result.fillna(0)\n",
    "\n",
    "result.columns=['predict_date','class_id','predict_quantity']\n",
    "print(result.predict_quantity[:5])\n",
    "result.predict_quantity = (result.predict_quantity * 0.97).round()\n",
    "print(result.predict_quantity[:5])"
   ]
  },
  {
   "cell_type": "code",
   "execution_count": 7,
   "metadata": {
    "collapsed": true
   },
   "outputs": [],
   "source": [
    "result.to_csv('./results/result_201801301013.csv',index=False,header=True)  "
   ]
  },
  {
   "cell_type": "code",
   "execution_count": null,
   "metadata": {
    "collapsed": true
   },
   "outputs": [],
   "source": []
  }
 ],
 "metadata": {
  "kernelspec": {
   "display_name": "Python 3",
   "language": "python",
   "name": "python3"
  },
  "language_info": {
   "codemirror_mode": {
    "name": "ipython",
    "version": 3
   },
   "file_extension": ".py",
   "mimetype": "text/x-python",
   "name": "python",
   "nbconvert_exporter": "python",
   "pygments_lexer": "ipython3",
   "version": "3.5.4"
  }
 },
 "nbformat": 4,
 "nbformat_minor": 2
}
